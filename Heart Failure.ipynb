{
 "cells": [
  {
   "cell_type": "code",
   "execution_count": 1,
   "id": "4e608c18",
   "metadata": {},
   "outputs": [],
   "source": [
    "import pandas as pd\n",
    "import numpy as np"
   ]
  },
  {
   "cell_type": "code",
   "execution_count": 2,
   "id": "dced2011",
   "metadata": {},
   "outputs": [],
   "source": [
    "df = pd.read_csv('mlcase.csv')"
   ]
  },
  {
   "cell_type": "code",
   "execution_count": 3,
   "id": "b5cde99d",
   "metadata": {},
   "outputs": [
    {
     "data": {
      "text/plain": [
       "Index(['age', 'sex', 'chest pain', 'resting  blood pressure ', 'cholestoral',\n",
       "       'fasting blood sugar (gt 120)', 'resting electrocardiographic',\n",
       "       'max heart rate', 'angina', 'oldpeak', 'slop of the peak ',\n",
       "       'no.major vessels', 'thalassemia', 'output'],\n",
       "      dtype='object')"
      ]
     },
     "execution_count": 3,
     "metadata": {},
     "output_type": "execute_result"
    }
   ],
   "source": [
    "df.columns"
   ]
  },
  {
   "cell_type": "code",
   "execution_count": 4,
   "id": "e384ef04",
   "metadata": {},
   "outputs": [],
   "source": [
    "#df.drop(['slop of the peak ','oldpeak','no.major vessels'] , axis = 1 ,inplace = True)\n",
    "#df"
   ]
  },
  {
   "cell_type": "code",
   "execution_count": 5,
   "id": "44c13a60",
   "metadata": {},
   "outputs": [
    {
     "data": {
      "text/html": [
       "<div>\n",
       "<style scoped>\n",
       "    .dataframe tbody tr th:only-of-type {\n",
       "        vertical-align: middle;\n",
       "    }\n",
       "\n",
       "    .dataframe tbody tr th {\n",
       "        vertical-align: top;\n",
       "    }\n",
       "\n",
       "    .dataframe thead th {\n",
       "        text-align: right;\n",
       "    }\n",
       "</style>\n",
       "<table border=\"1\" class=\"dataframe\">\n",
       "  <thead>\n",
       "    <tr style=\"text-align: right;\">\n",
       "      <th></th>\n",
       "      <th>age</th>\n",
       "      <th>sex</th>\n",
       "      <th>chest pain</th>\n",
       "      <th>resting  blood pressure</th>\n",
       "      <th>cholestoral</th>\n",
       "      <th>fasting blood sugar (gt 120)</th>\n",
       "      <th>resting electrocardiographic</th>\n",
       "      <th>max heart rate</th>\n",
       "      <th>angina</th>\n",
       "      <th>oldpeak</th>\n",
       "      <th>slop of the peak</th>\n",
       "      <th>no.major vessels</th>\n",
       "      <th>thalassemia</th>\n",
       "      <th>output</th>\n",
       "    </tr>\n",
       "  </thead>\n",
       "  <tbody>\n",
       "    <tr>\n",
       "      <th>age</th>\n",
       "      <td>1.000000</td>\n",
       "      <td>-0.098447</td>\n",
       "      <td>-0.068653</td>\n",
       "      <td>0.279351</td>\n",
       "      <td>0.213678</td>\n",
       "      <td>0.121308</td>\n",
       "      <td>-0.116211</td>\n",
       "      <td>-0.398522</td>\n",
       "      <td>0.096801</td>\n",
       "      <td>0.210013</td>\n",
       "      <td>-0.168814</td>\n",
       "      <td>0.276326</td>\n",
       "      <td>0.068001</td>\n",
       "      <td>-0.225439</td>\n",
       "    </tr>\n",
       "    <tr>\n",
       "      <th>sex</th>\n",
       "      <td>-0.098447</td>\n",
       "      <td>1.000000</td>\n",
       "      <td>-0.049353</td>\n",
       "      <td>-0.056769</td>\n",
       "      <td>-0.197912</td>\n",
       "      <td>0.045032</td>\n",
       "      <td>-0.058196</td>\n",
       "      <td>-0.044020</td>\n",
       "      <td>0.141664</td>\n",
       "      <td>0.096093</td>\n",
       "      <td>-0.030711</td>\n",
       "      <td>0.118261</td>\n",
       "      <td>0.210041</td>\n",
       "      <td>-0.280937</td>\n",
       "    </tr>\n",
       "    <tr>\n",
       "      <th>chest pain</th>\n",
       "      <td>-0.068653</td>\n",
       "      <td>-0.049353</td>\n",
       "      <td>1.000000</td>\n",
       "      <td>0.047608</td>\n",
       "      <td>-0.076904</td>\n",
       "      <td>0.094444</td>\n",
       "      <td>0.044421</td>\n",
       "      <td>0.295762</td>\n",
       "      <td>-0.394280</td>\n",
       "      <td>-0.149230</td>\n",
       "      <td>0.119717</td>\n",
       "      <td>-0.181053</td>\n",
       "      <td>-0.161736</td>\n",
       "      <td>0.433798</td>\n",
       "    </tr>\n",
       "    <tr>\n",
       "      <th>resting  blood pressure</th>\n",
       "      <td>0.279351</td>\n",
       "      <td>-0.056769</td>\n",
       "      <td>0.047608</td>\n",
       "      <td>1.000000</td>\n",
       "      <td>0.123174</td>\n",
       "      <td>0.177531</td>\n",
       "      <td>-0.114103</td>\n",
       "      <td>-0.046698</td>\n",
       "      <td>0.067616</td>\n",
       "      <td>0.193216</td>\n",
       "      <td>-0.121475</td>\n",
       "      <td>0.101389</td>\n",
       "      <td>0.062210</td>\n",
       "      <td>-0.144931</td>\n",
       "    </tr>\n",
       "    <tr>\n",
       "      <th>cholestoral</th>\n",
       "      <td>0.213678</td>\n",
       "      <td>-0.197912</td>\n",
       "      <td>-0.076904</td>\n",
       "      <td>0.123174</td>\n",
       "      <td>1.000000</td>\n",
       "      <td>0.013294</td>\n",
       "      <td>-0.151040</td>\n",
       "      <td>-0.009940</td>\n",
       "      <td>0.067023</td>\n",
       "      <td>0.053952</td>\n",
       "      <td>-0.004038</td>\n",
       "      <td>0.070511</td>\n",
       "      <td>0.098803</td>\n",
       "      <td>-0.085239</td>\n",
       "    </tr>\n",
       "    <tr>\n",
       "      <th>fasting blood sugar (gt 120)</th>\n",
       "      <td>0.121308</td>\n",
       "      <td>0.045032</td>\n",
       "      <td>0.094444</td>\n",
       "      <td>0.177531</td>\n",
       "      <td>0.013294</td>\n",
       "      <td>1.000000</td>\n",
       "      <td>-0.084189</td>\n",
       "      <td>-0.008567</td>\n",
       "      <td>0.025665</td>\n",
       "      <td>0.005747</td>\n",
       "      <td>-0.059894</td>\n",
       "      <td>0.137979</td>\n",
       "      <td>-0.032019</td>\n",
       "      <td>-0.028046</td>\n",
       "    </tr>\n",
       "    <tr>\n",
       "      <th>resting electrocardiographic</th>\n",
       "      <td>-0.116211</td>\n",
       "      <td>-0.058196</td>\n",
       "      <td>0.044421</td>\n",
       "      <td>-0.114103</td>\n",
       "      <td>-0.151040</td>\n",
       "      <td>-0.084189</td>\n",
       "      <td>1.000000</td>\n",
       "      <td>0.044123</td>\n",
       "      <td>-0.070733</td>\n",
       "      <td>-0.058770</td>\n",
       "      <td>0.093045</td>\n",
       "      <td>-0.072042</td>\n",
       "      <td>-0.011981</td>\n",
       "      <td>0.137230</td>\n",
       "    </tr>\n",
       "    <tr>\n",
       "      <th>max heart rate</th>\n",
       "      <td>-0.398522</td>\n",
       "      <td>-0.044020</td>\n",
       "      <td>0.295762</td>\n",
       "      <td>-0.046698</td>\n",
       "      <td>-0.009940</td>\n",
       "      <td>-0.008567</td>\n",
       "      <td>0.044123</td>\n",
       "      <td>1.000000</td>\n",
       "      <td>-0.378812</td>\n",
       "      <td>-0.344187</td>\n",
       "      <td>0.386784</td>\n",
       "      <td>-0.213177</td>\n",
       "      <td>-0.096439</td>\n",
       "      <td>0.421741</td>\n",
       "    </tr>\n",
       "    <tr>\n",
       "      <th>angina</th>\n",
       "      <td>0.096801</td>\n",
       "      <td>0.141664</td>\n",
       "      <td>-0.394280</td>\n",
       "      <td>0.067616</td>\n",
       "      <td>0.067023</td>\n",
       "      <td>0.025665</td>\n",
       "      <td>-0.070733</td>\n",
       "      <td>-0.378812</td>\n",
       "      <td>1.000000</td>\n",
       "      <td>0.288223</td>\n",
       "      <td>-0.257748</td>\n",
       "      <td>0.115739</td>\n",
       "      <td>0.206754</td>\n",
       "      <td>-0.436757</td>\n",
       "    </tr>\n",
       "    <tr>\n",
       "      <th>oldpeak</th>\n",
       "      <td>0.210013</td>\n",
       "      <td>0.096093</td>\n",
       "      <td>-0.149230</td>\n",
       "      <td>0.193216</td>\n",
       "      <td>0.053952</td>\n",
       "      <td>0.005747</td>\n",
       "      <td>-0.058770</td>\n",
       "      <td>-0.344187</td>\n",
       "      <td>0.288223</td>\n",
       "      <td>1.000000</td>\n",
       "      <td>-0.577537</td>\n",
       "      <td>0.222682</td>\n",
       "      <td>0.210244</td>\n",
       "      <td>-0.430696</td>\n",
       "    </tr>\n",
       "    <tr>\n",
       "      <th>slop of the peak</th>\n",
       "      <td>-0.168814</td>\n",
       "      <td>-0.030711</td>\n",
       "      <td>0.119717</td>\n",
       "      <td>-0.121475</td>\n",
       "      <td>-0.004038</td>\n",
       "      <td>-0.059894</td>\n",
       "      <td>0.093045</td>\n",
       "      <td>0.386784</td>\n",
       "      <td>-0.257748</td>\n",
       "      <td>-0.577537</td>\n",
       "      <td>1.000000</td>\n",
       "      <td>-0.080155</td>\n",
       "      <td>-0.104764</td>\n",
       "      <td>0.345877</td>\n",
       "    </tr>\n",
       "    <tr>\n",
       "      <th>no.major vessels</th>\n",
       "      <td>0.276326</td>\n",
       "      <td>0.118261</td>\n",
       "      <td>-0.181053</td>\n",
       "      <td>0.101389</td>\n",
       "      <td>0.070511</td>\n",
       "      <td>0.137979</td>\n",
       "      <td>-0.072042</td>\n",
       "      <td>-0.213177</td>\n",
       "      <td>0.115739</td>\n",
       "      <td>0.222682</td>\n",
       "      <td>-0.080155</td>\n",
       "      <td>1.000000</td>\n",
       "      <td>0.151832</td>\n",
       "      <td>-0.391724</td>\n",
       "    </tr>\n",
       "    <tr>\n",
       "      <th>thalassemia</th>\n",
       "      <td>0.068001</td>\n",
       "      <td>0.210041</td>\n",
       "      <td>-0.161736</td>\n",
       "      <td>0.062210</td>\n",
       "      <td>0.098803</td>\n",
       "      <td>-0.032019</td>\n",
       "      <td>-0.011981</td>\n",
       "      <td>-0.096439</td>\n",
       "      <td>0.206754</td>\n",
       "      <td>0.210244</td>\n",
       "      <td>-0.104764</td>\n",
       "      <td>0.151832</td>\n",
       "      <td>1.000000</td>\n",
       "      <td>-0.344029</td>\n",
       "    </tr>\n",
       "    <tr>\n",
       "      <th>output</th>\n",
       "      <td>-0.225439</td>\n",
       "      <td>-0.280937</td>\n",
       "      <td>0.433798</td>\n",
       "      <td>-0.144931</td>\n",
       "      <td>-0.085239</td>\n",
       "      <td>-0.028046</td>\n",
       "      <td>0.137230</td>\n",
       "      <td>0.421741</td>\n",
       "      <td>-0.436757</td>\n",
       "      <td>-0.430696</td>\n",
       "      <td>0.345877</td>\n",
       "      <td>-0.391724</td>\n",
       "      <td>-0.344029</td>\n",
       "      <td>1.000000</td>\n",
       "    </tr>\n",
       "  </tbody>\n",
       "</table>\n",
       "</div>"
      ],
      "text/plain": [
       "                                   age       sex  chest pain  \\\n",
       "age                           1.000000 -0.098447   -0.068653   \n",
       "sex                          -0.098447  1.000000   -0.049353   \n",
       "chest pain                   -0.068653 -0.049353    1.000000   \n",
       "resting  blood pressure       0.279351 -0.056769    0.047608   \n",
       "cholestoral                   0.213678 -0.197912   -0.076904   \n",
       "fasting blood sugar (gt 120)  0.121308  0.045032    0.094444   \n",
       "resting electrocardiographic -0.116211 -0.058196    0.044421   \n",
       "max heart rate               -0.398522 -0.044020    0.295762   \n",
       "angina                        0.096801  0.141664   -0.394280   \n",
       "oldpeak                       0.210013  0.096093   -0.149230   \n",
       "slop of the peak             -0.168814 -0.030711    0.119717   \n",
       "no.major vessels              0.276326  0.118261   -0.181053   \n",
       "thalassemia                   0.068001  0.210041   -0.161736   \n",
       "output                       -0.225439 -0.280937    0.433798   \n",
       "\n",
       "                              resting  blood pressure   cholestoral  \\\n",
       "age                                           0.279351     0.213678   \n",
       "sex                                          -0.056769    -0.197912   \n",
       "chest pain                                    0.047608    -0.076904   \n",
       "resting  blood pressure                       1.000000     0.123174   \n",
       "cholestoral                                   0.123174     1.000000   \n",
       "fasting blood sugar (gt 120)                  0.177531     0.013294   \n",
       "resting electrocardiographic                 -0.114103    -0.151040   \n",
       "max heart rate                               -0.046698    -0.009940   \n",
       "angina                                        0.067616     0.067023   \n",
       "oldpeak                                       0.193216     0.053952   \n",
       "slop of the peak                             -0.121475    -0.004038   \n",
       "no.major vessels                              0.101389     0.070511   \n",
       "thalassemia                                   0.062210     0.098803   \n",
       "output                                       -0.144931    -0.085239   \n",
       "\n",
       "                              fasting blood sugar (gt 120)  \\\n",
       "age                                               0.121308   \n",
       "sex                                               0.045032   \n",
       "chest pain                                        0.094444   \n",
       "resting  blood pressure                           0.177531   \n",
       "cholestoral                                       0.013294   \n",
       "fasting blood sugar (gt 120)                      1.000000   \n",
       "resting electrocardiographic                     -0.084189   \n",
       "max heart rate                                   -0.008567   \n",
       "angina                                            0.025665   \n",
       "oldpeak                                           0.005747   \n",
       "slop of the peak                                 -0.059894   \n",
       "no.major vessels                                  0.137979   \n",
       "thalassemia                                      -0.032019   \n",
       "output                                           -0.028046   \n",
       "\n",
       "                              resting electrocardiographic  max heart rate  \\\n",
       "age                                              -0.116211       -0.398522   \n",
       "sex                                              -0.058196       -0.044020   \n",
       "chest pain                                        0.044421        0.295762   \n",
       "resting  blood pressure                          -0.114103       -0.046698   \n",
       "cholestoral                                      -0.151040       -0.009940   \n",
       "fasting blood sugar (gt 120)                     -0.084189       -0.008567   \n",
       "resting electrocardiographic                      1.000000        0.044123   \n",
       "max heart rate                                    0.044123        1.000000   \n",
       "angina                                           -0.070733       -0.378812   \n",
       "oldpeak                                          -0.058770       -0.344187   \n",
       "slop of the peak                                  0.093045        0.386784   \n",
       "no.major vessels                                 -0.072042       -0.213177   \n",
       "thalassemia                                      -0.011981       -0.096439   \n",
       "output                                            0.137230        0.421741   \n",
       "\n",
       "                                angina   oldpeak  slop of the peak   \\\n",
       "age                           0.096801  0.210013          -0.168814   \n",
       "sex                           0.141664  0.096093          -0.030711   \n",
       "chest pain                   -0.394280 -0.149230           0.119717   \n",
       "resting  blood pressure       0.067616  0.193216          -0.121475   \n",
       "cholestoral                   0.067023  0.053952          -0.004038   \n",
       "fasting blood sugar (gt 120)  0.025665  0.005747          -0.059894   \n",
       "resting electrocardiographic -0.070733 -0.058770           0.093045   \n",
       "max heart rate               -0.378812 -0.344187           0.386784   \n",
       "angina                        1.000000  0.288223          -0.257748   \n",
       "oldpeak                       0.288223  1.000000          -0.577537   \n",
       "slop of the peak             -0.257748 -0.577537           1.000000   \n",
       "no.major vessels              0.115739  0.222682          -0.080155   \n",
       "thalassemia                   0.206754  0.210244          -0.104764   \n",
       "output                       -0.436757 -0.430696           0.345877   \n",
       "\n",
       "                              no.major vessels  thalassemia    output  \n",
       "age                                   0.276326     0.068001 -0.225439  \n",
       "sex                                   0.118261     0.210041 -0.280937  \n",
       "chest pain                           -0.181053    -0.161736  0.433798  \n",
       "resting  blood pressure               0.101389     0.062210 -0.144931  \n",
       "cholestoral                           0.070511     0.098803 -0.085239  \n",
       "fasting blood sugar (gt 120)          0.137979    -0.032019 -0.028046  \n",
       "resting electrocardiographic         -0.072042    -0.011981  0.137230  \n",
       "max heart rate                       -0.213177    -0.096439  0.421741  \n",
       "angina                                0.115739     0.206754 -0.436757  \n",
       "oldpeak                               0.222682     0.210244 -0.430696  \n",
       "slop of the peak                     -0.080155    -0.104764  0.345877  \n",
       "no.major vessels                      1.000000     0.151832 -0.391724  \n",
       "thalassemia                           0.151832     1.000000 -0.344029  \n",
       "output                               -0.391724    -0.344029  1.000000  "
      ]
     },
     "execution_count": 5,
     "metadata": {},
     "output_type": "execute_result"
    }
   ],
   "source": [
    "df.corr()"
   ]
  },
  {
   "cell_type": "code",
   "execution_count": 6,
   "id": "23a5f8c2",
   "metadata": {},
   "outputs": [],
   "source": [
    "x= df[['chest pain','max heart rate','slop of the peak ' ,'angina','oldpeak','no.major vessels' ,'thalassemia','age','sex']]\n",
    "#x = df.drop('output', axis = 1 )\n",
    "y= df['output']"
   ]
  },
  {
   "cell_type": "code",
   "execution_count": 7,
   "id": "7587e183",
   "metadata": {},
   "outputs": [],
   "source": [
    "from sklearn.preprocessing import MinMaxScaler"
   ]
  },
  {
   "cell_type": "code",
   "execution_count": 8,
   "id": "2349b388",
   "metadata": {},
   "outputs": [],
   "source": [
    "sd = MinMaxScaler()"
   ]
  },
  {
   "cell_type": "code",
   "execution_count": 9,
   "id": "fe9074f6",
   "metadata": {},
   "outputs": [
    {
     "data": {
      "text/plain": [
       "MinMaxScaler()"
      ]
     },
     "execution_count": 9,
     "metadata": {},
     "output_type": "execute_result"
    }
   ],
   "source": [
    "sd.fit(x)"
   ]
  },
  {
   "cell_type": "code",
   "execution_count": 10,
   "id": "242fbc59",
   "metadata": {},
   "outputs": [],
   "source": [
    "fsd = sd.transform(x)"
   ]
  },
  {
   "cell_type": "code",
   "execution_count": 11,
   "id": "3ead1c04",
   "metadata": {},
   "outputs": [],
   "source": [
    "x = fsd \n",
    "y= df['output']"
   ]
  },
  {
   "cell_type": "code",
   "execution_count": 12,
   "id": "55654cc9",
   "metadata": {},
   "outputs": [],
   "source": [
    "from sklearn.model_selection import train_test_split\n",
    "x_train , x_test , y_train , y_test = train_test_split(x , y , test_size = 0.18,shuffle=True, random_state = 10 , stratify = y)"
   ]
  },
  {
   "cell_type": "code",
   "execution_count": 13,
   "id": "36c1af58",
   "metadata": {},
   "outputs": [],
   "source": [
    "from sklearn.ensemble import RandomForestClassifier"
   ]
  },
  {
   "cell_type": "code",
   "execution_count": 14,
   "id": "6f9772e0",
   "metadata": {},
   "outputs": [],
   "source": [
    "rf = RandomForestClassifier()"
   ]
  },
  {
   "cell_type": "code",
   "execution_count": 15,
   "id": "0f031d26",
   "metadata": {},
   "outputs": [
    {
     "data": {
      "text/plain": [
       "RandomForestClassifier()"
      ]
     },
     "execution_count": 15,
     "metadata": {},
     "output_type": "execute_result"
    }
   ],
   "source": [
    "rf.fit(x_train , y_train)"
   ]
  },
  {
   "cell_type": "code",
   "execution_count": 16,
   "id": "e26a84c0",
   "metadata": {},
   "outputs": [],
   "source": [
    "pre = rf.predict(x_test)"
   ]
  },
  {
   "cell_type": "code",
   "execution_count": 17,
   "id": "5cf14f82",
   "metadata": {},
   "outputs": [],
   "source": [
    "from sklearn.metrics import classification_report"
   ]
  },
  {
   "cell_type": "code",
   "execution_count": 18,
   "id": "9e8c6b6f",
   "metadata": {},
   "outputs": [
    {
     "name": "stdout",
     "output_type": "stream",
     "text": [
      "              precision    recall  f1-score   support\n",
      "\n",
      "           0       0.92      0.88      0.90        25\n",
      "           1       0.90      0.93      0.92        30\n",
      "\n",
      "    accuracy                           0.91        55\n",
      "   macro avg       0.91      0.91      0.91        55\n",
      "weighted avg       0.91      0.91      0.91        55\n",
      "\n"
     ]
    }
   ],
   "source": [
    "print(classification_report(y_test , pre))"
   ]
  },
  {
   "cell_type": "code",
   "execution_count": 19,
   "id": "104626c1",
   "metadata": {},
   "outputs": [],
   "source": [
    "tdf = pd.read_excel('mltest.xlsx')"
   ]
  },
  {
   "cell_type": "code",
   "execution_count": 20,
   "id": "a1b8d078",
   "metadata": {},
   "outputs": [],
   "source": [
    "xx= tdf[['chest pain','max heart rate','slop of the peak ' ,'angina','oldpeak','no.major vessels' ,'thalassemia','age','sex']]\n",
    "#x = df.drop('output', axis = 1 )\n",
    "yy= tdf['output']"
   ]
  },
  {
   "cell_type": "code",
   "execution_count": 21,
   "id": "e3d9402f",
   "metadata": {},
   "outputs": [],
   "source": [
    "tfsd = sd.transform(xx)"
   ]
  },
  {
   "cell_type": "code",
   "execution_count": 22,
   "id": "3a3ab041",
   "metadata": {},
   "outputs": [
    {
     "data": {
      "text/plain": [
       "array([[0.66666667, 0.78625954, 1.        , 0.        , 0.25806452,\n",
       "        0.        , 0.66666667, 0.58333333, 1.        ],\n",
       "       [0.66666667, 0.51908397, 1.        , 0.        , 0.03225806,\n",
       "        0.        , 0.66666667, 0.39583333, 0.        ],\n",
       "       [0.66666667, 0.77862595, 1.        , 0.        , 0.51612903,\n",
       "        0.5       , 1.        , 0.60416667, 1.        ]])"
      ]
     },
     "execution_count": 22,
     "metadata": {},
     "output_type": "execute_result"
    }
   ],
   "source": [
    "tfsd"
   ]
  },
  {
   "cell_type": "code",
   "execution_count": 23,
   "id": "334e9699",
   "metadata": {},
   "outputs": [
    {
     "name": "stderr",
     "output_type": "stream",
     "text": [
      "C:\\Users\\omer\\anaconda3\\lib\\site-packages\\sklearn\\base.py:443: UserWarning: X has feature names, but RandomForestClassifier was fitted without feature names\n",
      "  warnings.warn(\n"
     ]
    }
   ],
   "source": [
    "predt = rf.predict(xx)"
   ]
  },
  {
   "cell_type": "code",
   "execution_count": 24,
   "id": "52992efb",
   "metadata": {},
   "outputs": [
    {
     "data": {
      "text/plain": [
       "array([1, 1, 0], dtype=int64)"
      ]
     },
     "execution_count": 24,
     "metadata": {},
     "output_type": "execute_result"
    }
   ],
   "source": [
    "predt"
   ]
  },
  {
   "cell_type": "code",
   "execution_count": null,
   "id": "0db4d515",
   "metadata": {},
   "outputs": [],
   "source": []
  }
 ],
 "metadata": {
  "kernelspec": {
   "display_name": "Python 3 (ipykernel)",
   "language": "python",
   "name": "python3"
  },
  "language_info": {
   "codemirror_mode": {
    "name": "ipython",
    "version": 3
   },
   "file_extension": ".py",
   "mimetype": "text/x-python",
   "name": "python",
   "nbconvert_exporter": "python",
   "pygments_lexer": "ipython3",
   "version": "3.9.12"
  }
 },
 "nbformat": 4,
 "nbformat_minor": 5
}
